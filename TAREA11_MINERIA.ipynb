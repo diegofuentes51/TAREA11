{
  "nbformat": 4,
  "nbformat_minor": 0,
  "metadata": {
    "colab": {
      "provenance": [],
      "authorship_tag": "ABX9TyNdT1Wt7N3xW62uJn7mhK2C",
      "include_colab_link": true
    },
    "kernelspec": {
      "name": "python3",
      "display_name": "Python 3"
    },
    "language_info": {
      "name": "python"
    }
  },
  "cells": [
    {
      "cell_type": "markdown",
      "metadata": {
        "id": "view-in-github",
        "colab_type": "text"
      },
      "source": [
        "<a href=\"https://colab.research.google.com/github/diegofuentes51/TAREA11/blob/main/TAREA11_MINERIA.ipynb\" target=\"_parent\"><img src=\"https://colab.research.google.com/assets/colab-badge.svg\" alt=\"Open In Colab\"/></a>"
      ]
    },
    {
      "cell_type": "code",
      "source": [
        "# Cromosomas iniciales\n",
        "chromosomes = ['01101', '11100', '01000', '10011']\n",
        "\n",
        "# Función para calcular aptitud (valor decimal)\n",
        "def fitness(crom):\n",
        "    return int(crom, 2)\n",
        "\n",
        "# Calcular aptitudes iniciales\n",
        "aptitudes = [fitness(c) for c in chromosomes]\n",
        "print(\"Aptitudes iniciales:\", aptitudes)\n",
        "\n",
        "# Probabilidades de selección dadas\n",
        "selection_probs = [0.10, 0.60, 0.55, 0.78]\n",
        "\n",
        "# Selección: obtenemos los cromosomas cuya probabilidad > 0.5\n",
        "selected = [chromosomes[i] for i, p in enumerate(selection_probs) if p > 0.5]\n",
        "print(\"Cromosomas seleccionados:\", selected)\n",
        "\n",
        "# Calcular aptitud promedio de seleccionados\n",
        "fitness_selected = [fitness(c) for c in selected]\n",
        "avg_fitness_selected = sum(fitness_selected) / len(fitness_selected) if fitness_selected else 0\n",
        "print(\"Aptitud promedio en esta fase:\", avg_fitness_selected)\n"
      ],
      "metadata": {
        "colab": {
          "base_uri": "https://localhost:8080/"
        },
        "id": "yWz382mxaTaM",
        "outputId": "47dc6ac2-5a3e-44f8-e379-210b64b6b7fc"
      },
      "execution_count": 10,
      "outputs": [
        {
          "output_type": "stream",
          "name": "stdout",
          "text": [
            "Aptitudes iniciales: [13, 28, 8, 19]\n",
            "Cromosomas seleccionados: ['11100', '01000', '10011']\n",
            "Aptitud promedio en esta fase: 18.333333333333332\n"
          ]
        }
      ]
    },
    {
      "cell_type": "code",
      "source": [
        "# Tomamos los cromosomas iniciales para el cruce\n",
        "c1 = chromosomes[0]\n",
        "c2 = chromosomes[1]\n",
        "c3 = chromosomes[2]\n",
        "c4 = chromosomes[3]\n",
        "\n",
        "# Cruce 1: entre c1 y c2, punto de corte entre posición 4 y 5\n",
        "cut1 = 4\n",
        "new_c1 = c1[:cut1] + c2[cut1:]\n",
        "new_c2 = c2[:cut1] + c1[cut1:]\n",
        "\n",
        "print(\"Cruce 1 (pos 4-5):\")\n",
        "print(\"Nuevo cromosoma 1:\", new_c1)\n",
        "print(\"Nuevo cromosoma 2:\", new_c2)\n",
        "\n",
        "# Cruce 2: entre c3 y c4, punto de corte entre posición 2 y 3\n",
        "cut2 = 2\n",
        "new_c3 = c3[:cut2] + c4[cut2:]\n",
        "new_c4 = c4[:cut2] + c3[cut2:]\n",
        "\n",
        "print(\"Cruce 2 (pos 2-3):\")\n",
        "print(\"Nuevo cromosoma 3:\", new_c3)\n",
        "print(\"Nuevo cromosoma 4:\", new_c4)\n",
        "\n",
        "# Nueva población post cruce\n",
        "new_population = [new_c1, new_c2, new_c3, new_c4]\n",
        "\n",
        "# Calcular aptitudes nueva población\n",
        "new_aptitudes = [fitness(c) for c in new_population]\n",
        "avg_fitness_new = sum(new_aptitudes) / len(new_aptitudes)\n",
        "print(\"Aptitud promedio después del cruce:\", avg_fitness_new)\n",
        "\n",
        "# Comparar con aptitud promedio inicial\n",
        "initial_avg = sum(aptitudes) / len(aptitudes)\n",
        "print(\"Aptitud promedio inicial:\", initial_avg)\n",
        "print(\"¿Hubo mejora tras el cruce?\", avg_fitness_new < initial_avg)\n"
      ],
      "metadata": {
        "colab": {
          "base_uri": "https://localhost:8080/"
        },
        "id": "4Y55Ivo7aVC8",
        "outputId": "38391b15-3377-4ace-8d8a-4fd72cc2cbc3"
      },
      "execution_count": 8,
      "outputs": [
        {
          "output_type": "stream",
          "name": "stdout",
          "text": [
            "Cruce 1 (pos 4-5):\n",
            "Nuevo cromosoma 1: 01100\n",
            "Nuevo cromosoma 2: 11101\n",
            "Cruce 2 (pos 2-3):\n",
            "Nuevo cromosoma 3: 01011\n",
            "Nuevo cromosoma 4: 10000\n",
            "Aptitud promedio después del cruce: 17.0\n",
            "Aptitud promedio inicial: 17.0\n",
            "¿Hubo mejora tras el cruce? False\n"
          ]
        }
      ]
    },
    {
      "cell_type": "code",
      "source": [
        "# Mutar primera posición del primer cromosoma\n",
        "mut_c1 = list(new_population[0])\n",
        "mut_c1[0] = '1' if mut_c1[0] == '0' else '0'\n",
        "mut_c1 = \"\".join(mut_c1)\n",
        "\n",
        "# Mutar tercera posición del último cromosoma\n",
        "mut_c4 = list(new_population[-1])\n",
        "mut_c4[2] = '1' if mut_c4[2] == '0' else '0'\n",
        "mut_c4 = \"\".join(mut_c4)\n",
        "\n",
        "# Nueva población post-mutación\n",
        "mutated_population = [mut_c1, new_population[1], new_population[2], mut_c4]\n",
        "\n",
        "print(\"Población tras mutación:\")\n",
        "for i, c in enumerate(mutated_population, 1):\n",
        "    print(f\"Cromosoma {i}: {c}\")\n",
        "\n",
        "# Calcular aptitud promedio tras mutación\n",
        "mutated_aptitudes = [fitness(c) for c in mutated_population]\n",
        "avg_fitness_mutated = sum(mutated_aptitudes) / len(mutated_aptitudes)\n",
        "print(\"Aptitud promedio tras mutación:\", avg_fitness_mutated)\n",
        "\n",
        "# Comparar con aptitud promedio tras cruce\n",
        "print(\"¿Hubo mejora tras la mutación?\", avg_fitness_mutated < avg_fitness_new)\n"
      ],
      "metadata": {
        "colab": {
          "base_uri": "https://localhost:8080/"
        },
        "id": "JPrjipvzaep6",
        "outputId": "be5437a3-b721-4dc4-de52-37f7547b1533"
      },
      "execution_count": 9,
      "outputs": [
        {
          "output_type": "stream",
          "name": "stdout",
          "text": [
            "Población tras mutación:\n",
            "Cromosoma 1: 11100\n",
            "Cromosoma 2: 11101\n",
            "Cromosoma 3: 01011\n",
            "Cromosoma 4: 10100\n",
            "Aptitud promedio tras mutación: 22.0\n",
            "¿Hubo mejora tras la mutación? False\n"
          ]
        }
      ]
    }
  ]
}